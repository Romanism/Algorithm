{
 "cells": [
  {
   "cell_type": "markdown",
   "metadata": {},
   "source": [
    "# Chapter1. 알고리즘 소개"
   ]
  },
  {
   "cell_type": "markdown",
   "metadata": {},
   "source": [
    "---"
   ]
  },
  {
   "cell_type": "markdown",
   "metadata": {},
   "source": [
    "### 1.1 이진 탐색 (Binary Search)\n",
    "\n",
    "- 정렬된 리스트에서 중간 부터 값을 찾아나가는 방법입니다. \n",
    "- $log_{2}{n}$번 으로 값을 찾을 수 있기 때문에 효율적입니다."
   ]
  },
  {
   "cell_type": "code",
   "execution_count": 1,
   "metadata": {},
   "outputs": [],
   "source": [
    "def binary_search(list, num):\n",
    "    '''\n",
    "    이진탐색을 할 리스트와 인덱스를 확인할 num를 설정합니다. 설정합니다.\n",
    "    '''\n",
    "    low = 0 # 최소 인덱스값은 0입니다.\n",
    "    high = len(list)-1 # index는 0부터 시작하기 때문에 최대 인덱스는 -1을 해줍니다.\n",
    "    \n",
    "    while low <= high: # 최대값이 최소값이 될때까지 점차 범위를 줄여나갑니다.\n",
    "        \n",
    "        mid = (low + high)//2 # 해당 리스트의 가운데 인덱스 숫자를 mid에 넣습니다.\n",
    "        guess = list[mid] # 그 숫자를 리스트의 인덱스에 넣습니다. guess는 리스트에서 중간 인덱스의 값이 됩니다.\n",
    "        \n",
    "        if guess == num:\n",
    "            # 만약 guess와 num이 같다면 mid를 출력합니다.\n",
    "            return mid\n",
    "        \n",
    "        if guess < num:\n",
    "            # 만약 num이 더 크다면 추측값이 작다는 의미입니다. 따라서 high의 수를 증가시킵니다.\n",
    "            low = mid+1\n",
    "            \n",
    "        else:\n",
    "            # 만약 num이 더 작다면 추측값이 크다는 의미입니다. 따라서 high의 수를 증가시킵니다.\n",
    "            high = mid-1\n",
    "            \n",
    "    return None"
   ]
  },
  {
   "cell_type": "code",
   "execution_count": 2,
   "metadata": {},
   "outputs": [],
   "source": [
    "# my_list 생성하기\n",
    "my_list = []\n",
    "for i in range(100):\n",
    "    if i % 2 == 0:\n",
    "        my_list.append(i)"
   ]
  },
  {
   "cell_type": "code",
   "execution_count": 3,
   "metadata": {
    "scrolled": true
   },
   "outputs": [
    {
     "name": "stdout",
     "output_type": "stream",
     "text": [
      "11\n",
      "None\n"
     ]
    }
   ],
   "source": [
    "# 결과 확인\n",
    "print(binary_search(my_list, 22)) # my_list에서 22의 위치는 11번째 입니다.\n",
    "print(binary_search(my_list, 51)) # my_list에서 51의 위치는 없습니다."
   ]
  },
  {
   "cell_type": "markdown",
   "metadata": {},
   "source": [
    "### 1.2 빅오 표기법 (Big O notation)\n",
    "\n",
    "- 알고리즘이 얼마나 빠른지 표시하는 방법입니다."
   ]
  },
  {
   "cell_type": "markdown",
   "metadata": {},
   "source": [
    "#### 1.2.1 빅오 실행시간의 예\n",
    "\n",
    "- O(log n), 로그시간 : 예) 이진 탐색\n",
    "- O(n), 선형시간 : 예) 단순 탐색\n",
    "- O(n * logn) : 예) 퀵 정렬과 같이 빠른 정렬 알고리즘\n",
    "- O(n^2) : 예) 선택 정렬과 같이 느린 알고리즘\n",
    "- O(n!) : 예) 외판원 문제와 같이 정말 느린 알고리즘"
   ]
  },
  {
   "cell_type": "markdown",
   "metadata": {},
   "source": [
    "#### 1.2.2 기억해요!!\n",
    "\n",
    "- 알고리즘의 속도는 시간이 아니라 연산 횟수가 어떻게 증가하는지로 측정합니다.\n",
    "- 이렇게 하면 입력 데이터의 크기가 늘어날 때 알고리즘의 실행 속도가 얼마나 증가하는지 알 수 있습니다.\n",
    "- 알고리즘의 실행시간은 빅오 표기법으로 나타냅니다.\n",
    "- O(log n)은 O(n)보다 빠르고, 찾으려는 리스트의 원소의 개수가 증가하면 상대적으로 더 빨라집니다."
   ]
  },
  {
   "cell_type": "markdown",
   "metadata": {},
   "source": [
    "#### 1.2.3 정리\n",
    "\n",
    "- 이진 탐색은 단순 탐색보다 아주 빠릅니다.\n",
    "- O(log n)은 O(n)보다 빠름, 리스트의 원소 개수가 증가하면 상대적으로 더 빠릅니다.\n",
    "- 알고리즘의 속도는 시간으로 측정하지 않습니다.\n",
    "- 알고리즘의 시간은 어떻게 증가하는가로 측정합니다.\n",
    "- 알고리즘의 시간은 빅오 표기법으로 나타냅니다."
   ]
  }
 ],
 "metadata": {
  "kernelspec": {
   "display_name": "Python 3",
   "language": "python",
   "name": "python3"
  },
  "language_info": {
   "codemirror_mode": {
    "name": "ipython",
    "version": 3
   },
   "file_extension": ".py",
   "mimetype": "text/x-python",
   "name": "python",
   "nbconvert_exporter": "python",
   "pygments_lexer": "ipython3",
   "version": "3.6.6"
  }
 },
 "nbformat": 4,
 "nbformat_minor": 2
}
