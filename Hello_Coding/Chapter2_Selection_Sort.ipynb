{
 "cells": [
  {
   "cell_type": "markdown",
   "metadata": {},
   "source": [
    "## 1. 배열과 연결 리스트"
   ]
  },
  {
   "cell_type": "markdown",
   "metadata": {},
   "source": [
    "#### 1.1 배열 (Array)\n",
    "\n",
    "- 배열은 모든 원소의 주소를 알고 있음\n",
    "- 원소의 위치를 알 수 있고 이를 인덱스라 함\n",
    "- 일반적으로 인덱스는 0부터 시작\n",
    "- 원소에 접근할 때 리스트보다 빠름"
   ]
  },
  {
   "cell_type": "markdown",
   "metadata": {},
   "source": [
    "#### 1.2 리스트 (List)\n",
    "\n",
    "- 원소를 추가할때는 연결 리스트를 사용\n",
    "- 연결 리스트를 사용하면 원소를 메모리의 어느 곳에나 둘 수 있음\n",
    "- 중간의 원소를 삽입하려면 리스트가 배열보다 좋음\n",
    "- 원소를 삭제할때도 리스트가 배열보다 좋음\n",
    "- 순차 접근밖에 할 수 없음 (원소를 읽을 때 시간이 오래걸림)"
   ]
  },
  {
   "cell_type": "markdown",
   "metadata": {},
   "source": [
    "---"
   ]
  },
  {
   "cell_type": "markdown",
   "metadata": {},
   "source": [
    "## 2. 선택 정렬"
   ]
  },
  {
   "cell_type": "code",
   "execution_count": 1,
   "metadata": {},
   "outputs": [],
   "source": [
    "def findSmallest(arr):\n",
    "    \n",
    "    '''\n",
    "    배열에서 가장작은 수의 인덱스를 구하는 함수입니다.\n",
    "    '''\n",
    "    \n",
    "    smallest = arr[0]\n",
    "    smallest_index = 0\n",
    "    \n",
    "    for i in range(1, len(arr)):\n",
    "        if arr[i] < smallest:\n",
    "            smallest = arr[i]\n",
    "            smallest_index = i\n",
    "            \n",
    "    return smallest_index"
   ]
  },
  {
   "cell_type": "code",
   "execution_count": 2,
   "metadata": {},
   "outputs": [],
   "source": [
    "def selectionSort(arr):\n",
    "    \n",
    "    '''\n",
    "    findSmallest를 활용해 작은 숫자부터 차례대로 정렬해주는 함수입니다.\n",
    "    '''\n",
    "    \n",
    "    newArr = []\n",
    "    \n",
    "    for i in range(len(arr)):\n",
    "        smallest = findSmallest(arr)\n",
    "        newArr.append(arr.pop(smallest))\n",
    "        \n",
    "    return newArr"
   ]
  },
  {
   "cell_type": "code",
   "execution_count": 3,
   "metadata": {},
   "outputs": [
    {
     "data": {
      "text/plain": [
       "[2, 3, 5, 6, 10]"
      ]
     },
     "execution_count": 3,
     "metadata": {},
     "output_type": "execute_result"
    }
   ],
   "source": [
    "selectionSort([5, 3, 6, 2, 10])"
   ]
  },
  {
   "cell_type": "markdown",
   "metadata": {},
   "source": [
    "---"
   ]
  },
  {
   "cell_type": "markdown",
   "metadata": {},
   "source": [
    "## 정리 "
   ]
  },
  {
   "cell_type": "markdown",
   "metadata": {},
   "source": [
    "- 컴퓨터 메모리는 거대한 서랍장과 같음\n",
    "- 여러개의 항목을 저장하고 싶을 때는 배열이나 리스트 사용\n",
    "- 배열을 쓰면 모든 항목은 이웃하는 위치에 저장\n",
    "- 리스트를 쓰면 모든 항목이 흩어지지만, 각 항목은 다음 항목의 주소를 저장\n",
    "- 배열은 읽기가 빠름\n",
    "- 연결 리스트는 삽입과 삭제가 빠름\n",
    "- 배열의 모든 원소는 같은 자료형이어야 함"
   ]
  }
 ],
 "metadata": {
  "kernelspec": {
   "display_name": "Python 3",
   "language": "python",
   "name": "python3"
  },
  "language_info": {
   "codemirror_mode": {
    "name": "ipython",
    "version": 3
   },
   "file_extension": ".py",
   "mimetype": "text/x-python",
   "name": "python",
   "nbconvert_exporter": "python",
   "pygments_lexer": "ipython3",
   "version": "3.6.5"
  }
 },
 "nbformat": 4,
 "nbformat_minor": 2
}
