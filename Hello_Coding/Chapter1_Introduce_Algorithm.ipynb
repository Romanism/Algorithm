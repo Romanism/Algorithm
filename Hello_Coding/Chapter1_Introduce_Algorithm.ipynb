{
 "cells": [
  {
   "cell_type": "markdown",
   "metadata": {},
   "source": [
    "## 1. 이진 탐색"
   ]
  },
  {
   "cell_type": "markdown",
   "metadata": {},
   "source": [
    "#### 1.1 개념\n",
    "\n",
    ": 정렬된 리스트에서 중간 부터 값을 찾아나가는 방법 (시간 절약)"
   ]
  },
  {
   "cell_type": "markdown",
   "metadata": {},
   "source": [
    "#### 1.2 코드"
   ]
  },
  {
   "cell_type": "code",
   "execution_count": 40,
   "metadata": {},
   "outputs": [],
   "source": [
    "def binary_search(list, item):\n",
    "\n",
    "    '''\n",
    "    이진 함수 코드입니다. list에 있는 item을 입력값으로 받고,\n",
    "    item의 인덱스가 return값으로 반환됩니다.\n",
    "    '''\n",
    "    low = 0\n",
    "    high = len(list) - 1\n",
    "\n",
    "\n",
    "    while low <= high:\n",
    "        \n",
    "        \n",
    "        mid = (low + high) // 2\n",
    "        guess = list[mid]\n",
    "        \n",
    "        if guess == item:\n",
    "            return mid\n",
    "        \n",
    "        if guess > item:\n",
    "            high = mid - 1\n",
    "        \n",
    "        else:\n",
    "            low = mid + 1\n",
    "    \n",
    "    return None"
   ]
  },
  {
   "cell_type": "code",
   "execution_count": 45,
   "metadata": {},
   "outputs": [
    {
     "name": "stdout",
     "output_type": "stream",
     "text": [
      "4\n"
     ]
    }
   ],
   "source": [
    "# list\n",
    "my_list = [1, 3, 5, 7, 9]\n",
    "print(binary_search(my_list, 9)) # 9의 위치는 인덱스4"
   ]
  },
  {
   "cell_type": "markdown",
   "metadata": {},
   "source": [
    "---"
   ]
  },
  {
   "cell_type": "markdown",
   "metadata": {},
   "source": [
    "## 2. 빅오 표기법"
   ]
  },
  {
   "cell_type": "markdown",
   "metadata": {},
   "source": [
    ": 알고리즘이 얼마나 빠른지 표시하는 특별한 방법"
   ]
  },
  {
   "cell_type": "markdown",
   "metadata": {},
   "source": [
    "- O(log n), 로그시간 : 예) 이진 탐색\n",
    "- O(n), 선형시간 : 예) 단순 탐색\n",
    "- O(n * logn) : 예) 퀵 정렬과 같이 빠른 정렬 알고리즘\n",
    "- O(n^2) : 예) 선택 정렬과 같이 느린 알고리즘\n",
    "- O(n!) : 예) 외판원 문제와 같이 정말 느린 알고리즘"
   ]
  },
  {
   "cell_type": "markdown",
   "metadata": {},
   "source": [
    "---"
   ]
  },
  {
   "cell_type": "markdown",
   "metadata": {},
   "source": [
    "## 정리\n",
    "\n",
    "- 이진 탐색은 단순 탐색보다 아주 빠름\n",
    "- O(log n)은 O(n)보다 빠름, 리스트의 원소 개수가 증가하면 상대적으로 더 빠름\n",
    "- 알고리즘의 속도는 시간으로 측정하지 않음\n",
    "- 알고리즘의 시간은 어떻게 증가하는가로 측정\n",
    "- 알고리즘의 시간은 빅오 표기법으로 나타냄"
   ]
  }
 ],
 "metadata": {
  "kernelspec": {
   "display_name": "Python 3",
   "language": "python",
   "name": "python3"
  },
  "language_info": {
   "codemirror_mode": {
    "name": "ipython",
    "version": 3
   },
   "file_extension": ".py",
   "mimetype": "text/x-python",
   "name": "python",
   "nbconvert_exporter": "python",
   "pygments_lexer": "ipython3",
   "version": "3.6.5"
  }
 },
 "nbformat": 4,
 "nbformat_minor": 2
}
