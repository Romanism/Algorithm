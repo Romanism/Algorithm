{
 "cells": [
  {
   "cell_type": "markdown",
   "metadata": {},
   "source": [
    "## Q. 001\n",
    "\n",
    "1000보다 작은 자연수 중에서 3 또는 5의 배수를 모두 더하면 얼마일까요?"
   ]
  },
  {
   "cell_type": "code",
   "execution_count": 1,
   "metadata": {},
   "outputs": [],
   "source": [
    "# list생성\n",
    "ls_3 = []\n",
    "ls_5 = []\n",
    "\n",
    "# for문 \n",
    "for num in range(1, 1000):\n",
    "    if num % 3 == 0:\n",
    "        ls_3.append(num)\n",
    "        \n",
    "    elif num % 5 == 0:\n",
    "        ls_5.append(num)"
   ]
  },
  {
   "cell_type": "code",
   "execution_count": 2,
   "metadata": {},
   "outputs": [
    {
     "data": {
      "text/plain": [
       "233168"
      ]
     },
     "execution_count": 2,
     "metadata": {},
     "output_type": "execute_result"
    }
   ],
   "source": [
    "sum(ls_3+ls_5) - sum(set(ls_3)&set(ls_5))"
   ]
  },
  {
   "cell_type": "markdown",
   "metadata": {},
   "source": [
    "---"
   ]
  },
  {
   "cell_type": "markdown",
   "metadata": {},
   "source": [
    "## Q. 002\n",
    "\n",
    "피보나치 수열의 각 항은 바로 앞의 항 두 개를 더한 것이 됩니다. 1과 2로 시작하는 경우 이 수열은 아래와 같습니다. 짝수이면서 4백만 이하인 모든 항을 더하면 얼마가 됩니까?"
   ]
  },
  {
   "cell_type": "code",
   "execution_count": 5,
   "metadata": {},
   "outputs": [],
   "source": [
    "a = 0\n",
    "b = 1\n",
    "ls = []\n",
    "\n",
    "while b < 4000000:\n",
    "    a,b = b, a+b\n",
    "    if b % 2 == 0 & b <= 4000000:\n",
    "        ls.append(b)"
   ]
  },
  {
   "cell_type": "code",
   "execution_count": 7,
   "metadata": {},
   "outputs": [
    {
     "data": {
      "text/plain": [
       "4613732"
      ]
     },
     "execution_count": 7,
     "metadata": {},
     "output_type": "execute_result"
    }
   ],
   "source": [
    "sum(ls)"
   ]
  },
  {
   "cell_type": "markdown",
   "metadata": {},
   "source": [
    "---"
   ]
  },
  {
   "cell_type": "markdown",
   "metadata": {},
   "source": [
    "## Q. 003\n",
    "\n",
    "어떤 수를 소수의 곱으로만 나타내는 것을 소인수분해라 하고, 이 소수들을 그 수의 소인수라고 합니다.\n",
    "예를 들면 13,195의 소인수는 5, 7, 13, 29 입니다. 600,851,475,143의 소인수 중에서 가장 큰 수를 구하세요."
   ]
  },
  {
   "cell_type": "code",
   "execution_count": null,
   "metadata": {},
   "outputs": [],
   "source": [
    "ls = []\n",
    "num = 600851475143\n",
    "for i in range(num, 1, -1):\n",
    "    if num % i == 0:\n",
    "        ls.append(i)\n",
    "        \n",
    "    if len(ls) == 2:\n",
    "        break\n",
    "        \n",
    "min(ls)"
   ]
  },
  {
   "cell_type": "markdown",
   "metadata": {},
   "source": [
    "---"
   ]
  },
  {
   "cell_type": "markdown",
   "metadata": {},
   "source": [
    "## Q. 004\n",
    "\n",
    "앞에서부터 읽을 때나 뒤에서부터 읽을 때나 모양이 같은 수를 대칭수(palindrome)라고 부릅니다. 두 자리 수를 곱해 만들 수 있는 대칭수 중 가장 큰 수는 9009 (= 91 × 99) 입니다. 세 자리 수를 곱해 만들 수 있는 가장 큰 대칭수는 얼마입니까?"
   ]
  },
  {
   "cell_type": "code",
   "execution_count": null,
   "metadata": {},
   "outputs": [],
   "source": [
    "ls = []\n",
    "for num1 in range(1000):\n",
    "    for num2 in range(1000):\n",
    "        \n",
    "        # 여섯자리 숫자만 출력\n",
    "        if len(str(num1*num2)) == 6:\n",
    "            ls.append(str(num1*num2))"
   ]
  },
  {
   "cell_type": "code",
   "execution_count": null,
   "metadata": {},
   "outputs": [],
   "source": [
    "palindrome = []\n",
    "\n",
    "for i in ls:\n",
    "    \n",
    "    # 0번째와 5번째 숫자 비교\n",
    "    if str(i)[0] == str(i)[5]:\n",
    "        k = i      \n",
    "    \n",
    "    # 1번째와 4번째 숫자 비교    \n",
    "    if str(k)[1] == str(k)[4]:\n",
    "        j = k\n",
    "    \n",
    "    # 2번째와 3번째 숫자 비교\n",
    "    if str(j)[2] == str(j)[3]:\n",
    "        l = j\n",
    "        \n",
    "        palindrome.append(int(l))\n",
    "        \n",
    "max(palindrome)"
   ]
  },
  {
   "cell_type": "code",
   "execution_count": null,
   "metadata": {},
   "outputs": [],
   "source": []
  }
 ],
 "metadata": {
  "kernelspec": {
   "display_name": "Python 3",
   "language": "python",
   "name": "python3"
  },
  "language_info": {
   "codemirror_mode": {
    "name": "ipython",
    "version": 3
   },
   "file_extension": ".py",
   "mimetype": "text/x-python",
   "name": "python",
   "nbconvert_exporter": "python",
   "pygments_lexer": "ipython3",
   "version": "3.6.5"
  }
 },
 "nbformat": 4,
 "nbformat_minor": 2
}
