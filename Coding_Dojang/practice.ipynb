{
 "cells": [
  {
   "cell_type": "markdown",
   "metadata": {},
   "source": [
    "### 최빈값 구하기"
   ]
  },
  {
   "cell_type": "code",
   "execution_count": 1,
   "metadata": {},
   "outputs": [],
   "source": [
    "import collections\n",
    "\n",
    "def mode(list):\n",
    "    data = collections.Counter(list).most_common()\n",
    "    max, m = data[0][1],[]\n",
    "    \n",
    "    for num in data:\n",
    "        if num[1] == max: \n",
    "            m.append(num[0])\n",
    "    \n",
    "        if len(m) == len(list):\n",
    "            return '없음'\n",
    "    \n",
    "    return m"
   ]
  },
  {
   "cell_type": "code",
   "execution_count": 2,
   "metadata": {},
   "outputs": [
    {
     "name": "stdout",
     "output_type": "stream",
     "text": [
      "[6]\n"
     ]
    }
   ],
   "source": [
    "print(mode([1,2,3,4,5,5,6,6,6]))  "
   ]
  },
  {
   "cell_type": "markdown",
   "metadata": {},
   "source": [
    "### 중앙값 구하기"
   ]
  },
  {
   "cell_type": "code",
   "execution_count": 3,
   "metadata": {},
   "outputs": [],
   "source": [
    "def median(list):\n",
    "    \n",
    "    '''\n",
    "    중앙값을 만드는 함수입니다.\n",
    "    '''\n",
    "    \n",
    "    if len(list) == 0:\n",
    "        return None\n",
    "    \n",
    "    half = int(len(list)/2)\n",
    "    \n",
    "    if half/2 == 1:\n",
    "        return list[half]\n",
    "    \n",
    "    else:\n",
    "        return ((list[half-1] + list[half]) / 2.0)"
   ]
  },
  {
   "cell_type": "code",
   "execution_count": 4,
   "metadata": {},
   "outputs": [
    {
     "data": {
      "text/plain": [
       "5.5"
      ]
     },
     "execution_count": 4,
     "metadata": {},
     "output_type": "execute_result"
    }
   ],
   "source": [
    "ls = [1,2,3,4,5,6,7,8,9,10]\n",
    "median(ls)"
   ]
  },
  {
   "cell_type": "markdown",
   "metadata": {},
   "source": [
    "### 평균 구하기"
   ]
  },
  {
   "cell_type": "code",
   "execution_count": 5,
   "metadata": {},
   "outputs": [],
   "source": [
    "def mean(list):\n",
    "    \n",
    "    '''\n",
    "    평균을 만드는 함수입니다.\n",
    "    '''\n",
    "    \n",
    "    data = 0\n",
    "    \n",
    "    for i in range(len(list)):\n",
    "        \n",
    "        data += i\n",
    "        \n",
    "    return data/len(list)   "
   ]
  },
  {
   "cell_type": "code",
   "execution_count": 6,
   "metadata": {},
   "outputs": [
    {
     "data": {
      "text/plain": [
       "4.5"
      ]
     },
     "execution_count": 6,
     "metadata": {},
     "output_type": "execute_result"
    }
   ],
   "source": [
    "ls = [1,2,3,4,5,6,7,8,9,10]\n",
    "mean(ls)"
   ]
  },
  {
   "cell_type": "markdown",
   "metadata": {},
   "source": [
    "### 숫자를 입력받으면 그에맞는자릿수 출력"
   ]
  },
  {
   "cell_type": "code",
   "execution_count": 22,
   "metadata": {},
   "outputs": [],
   "source": [
    "def digit(n):\n",
    "    \n",
    "    '''\n",
    "    숫자를 입력받으면 그에 맞는 자릿수를 반환해주는 함수입니다.\n",
    "    '''\n",
    "    \n",
    "    s = str(n)\n",
    "    head = '1'\n",
    "    for i in range(len(s)-1):\n",
    "\n",
    "        head += '0'\n",
    "\n",
    "    print('{}의 자리수'.format(head))"
   ]
  },
  {
   "cell_type": "code",
   "execution_count": 26,
   "metadata": {
    "scrolled": true
   },
   "outputs": [
    {
     "name": "stdout",
     "output_type": "stream",
     "text": [
      "100의 자리수\n"
     ]
    }
   ],
   "source": [
    "digit(258)"
   ]
  },
  {
   "cell_type": "markdown",
   "metadata": {},
   "source": [
    "### 문자와 숫자가 있으면 숫자만 반환해주는 프로그램"
   ]
  },
  {
   "cell_type": "code",
   "execution_count": 31,
   "metadata": {},
   "outputs": [],
   "source": [
    "def trans_num(str):\n",
    "    \n",
    "    return int(''.join(i for i in str if i.isdigit()))"
   ]
  },
  {
   "cell_type": "code",
   "execution_count": 32,
   "metadata": {},
   "outputs": [
    {
     "data": {
      "text/plain": [
       "162700000099"
      ]
     },
     "execution_count": 32,
     "metadata": {},
     "output_type": "execute_result"
    }
   ],
   "source": [
    "trans_num(\"1w627r00o00p0099 만\")"
   ]
  },
  {
   "cell_type": "markdown",
   "metadata": {},
   "source": [
    "### 문자에 해당하는 아스키코드를 알아내는 코드"
   ]
  },
  {
   "cell_type": "code",
   "execution_count": 38,
   "metadata": {},
   "outputs": [
    {
     "name": "stdout",
     "output_type": "stream",
     "text": [
      "a는 아스키코드로 97입니다.\n",
      "b는 아스키코드로 98입니다.\n",
      "c는 아스키코드로 99입니다.\n"
     ]
    }
   ],
   "source": [
    "ls = [\"a\", \"b\", \"c\"]\n",
    "\n",
    "for i in ls:\n",
    "    print(\"{}는 아스키코드로 {}입니다.\".format(i, ord(i)))"
   ]
  },
  {
   "cell_type": "markdown",
   "metadata": {},
   "source": [
    "### 자신을 제외한 곱셈"
   ]
  },
  {
   "cell_type": "code",
   "execution_count": 68,
   "metadata": {},
   "outputs": [],
   "source": [
    "def exclude(list):\n",
    "\n",
    "    ans = []\n",
    "    for i in range(len(list)):\n",
    "\n",
    "        data = 1\n",
    "        \n",
    "        for j in range(len(list)):\n",
    "\n",
    "            if i == j:\n",
    "                pass\n",
    "\n",
    "            else :\n",
    "                data *= list[j]\n",
    "\n",
    "        ans.append(data)\n",
    "    \n",
    "    return ans"
   ]
  },
  {
   "cell_type": "code",
   "execution_count": 69,
   "metadata": {},
   "outputs": [
    {
     "data": {
      "text/plain": [
       "[168, 56, 84, 48]"
      ]
     },
     "execution_count": 69,
     "metadata": {},
     "output_type": "execute_result"
    }
   ],
   "source": [
    "exclude([2, 6, 4, 7])"
   ]
  },
  {
   "cell_type": "markdown",
   "metadata": {},
   "source": [
    "### 피보나치 수열"
   ]
  },
  {
   "cell_type": "code",
   "execution_count": 10,
   "metadata": {},
   "outputs": [
    {
     "name": "stdout",
     "output_type": "stream",
     "text": [
      "1\n",
      "1\n",
      "2\n",
      "3\n",
      "5\n",
      "8\n",
      "13\n",
      "21\n",
      "34\n",
      "55\n",
      "89\n"
     ]
    }
   ],
   "source": [
    "def fibonacci(n):\n",
    "    \n",
    "    '''\n",
    "    피보나치 수열에 관한 함수입니다.\n",
    "    n을 입력하면 n까지의 피보나치 숫자가 출력됩니다.\n",
    "    '''\n",
    "    \n",
    "    a, b = 0, 1\n",
    "    \n",
    "    while b < n:\n",
    "        \n",
    "        print(b)\n",
    "        a, b = b, a+b\n",
    "        \n",
    "fibonacci(100)"
   ]
  }
 ],
 "metadata": {
  "kernelspec": {
   "display_name": "Python 3",
   "language": "python",
   "name": "python3"
  },
  "language_info": {
   "codemirror_mode": {
    "name": "ipython",
    "version": 3
   },
   "file_extension": ".py",
   "mimetype": "text/x-python",
   "name": "python",
   "nbconvert_exporter": "python",
   "pygments_lexer": "ipython3",
   "version": "3.6.5"
  }
 },
 "nbformat": 4,
 "nbformat_minor": 2
}
